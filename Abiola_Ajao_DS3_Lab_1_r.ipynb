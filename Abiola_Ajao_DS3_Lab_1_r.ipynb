{
  "nbformat": 4,
  "nbformat_minor": 0,
  "metadata": {
    "colab": {
      "provenance": [],
      "authorship_tag": "ABX9TyN2WiOMyMJAhndYUgyUTpXY",
      "include_colab_link": true
    },
    "kernelspec": {
      "name": "ir",
      "display_name": "R"
    },
    "language_info": {
      "name": "R"
    }
  },
  "cells": [
    {
      "cell_type": "markdown",
      "metadata": {
        "id": "view-in-github",
        "colab_type": "text"
      },
      "source": [
        "<a href=\"https://colab.research.google.com/github/Abiola97/Abiola97/blob/main/Abiola_Ajao_DS3_Lab_1_r.ipynb\" target=\"_parent\"><img src=\"https://colab.research.google.com/assets/colab-badge.svg\" alt=\"Open In Colab\"/></a>"
      ]
    },
    {
      "cell_type": "code",
      "execution_count": null,
      "metadata": {
        "id": "KR00ZVQiQeW3"
      },
      "outputs": [],
      "source": [
        "#1 Exercises\n",
        "#1.1 Exercise 1: Familiarizing Yourself with Base Plotting\n",
        "#Type the following commands into a script and then execute them together:\n",
        "plot(x = 1, y = 1, type = 'n',\n",
        "       xlim = c(-2, 2), ylim = c(-2, 2))\n",
        "points(x = -1, y = 1)\n",
        "segments(x0 = -0.5, y0 = -1, x1 = 0.5, y1 = -1)\n",
        "#The first line opens up an empty plot with a point at the coordinates x = 1 and y = 1. The type = 'n' argument means that this point is not actually displayed.\n",
        "#xlim and ylim specify the plot margins.\n",
        "#The points() function plots a single point at the specified coordinates. The segments() function plots a line segment. The beginning of the line segment is given by the arguments x0 and y0. The end points are given by x1 and y1.\n",
        "#What is displayed in your plotting window is actually a one-eyed smiley. By adding additional points() and segments(), can you create a more elaborate smiley?\n",
        "#This exercise will help to wrap your head around working with coordinate systems.\n"
      ]
    },
    {
      "cell_type": "code",
      "source": [
        "# Set up the plotting window\n",
        "plot(x = 1, y = 1, type = 'n',\n",
        "     xlim = c(-2, 2), ylim = c(-2, 2),\n",
        "     xlab = \"\", ylab = \"\", axes = FALSE)\n",
        "\n",
        "# Eyes\n",
        "points(x = -1, y = 1, pch = 16, cex = 2)  # Left eye\n",
        "points(x = 1, y = 1, pch = 16, cex = 2)   # Right eye\n",
        "\n",
        "# Nose\n",
        "points(x = 0, y = 0.5, pch = 16, cex = 1.5)\n",
        "\n",
        "# Smile (using multiple segments to simulate a curve)\n",
        "segments(x0 = -1, y0 = -0.5, x1 = -0.5, y1 = -1)\n",
        "segments(x0 = -0.5, y0 = -1, x1 = 0.5, y1 = -1)\n",
        "segments(x0 = 0.5, y0 = -1, x1 = 1, y1 = -0.5)\n",
        "\n",
        "# Optional: Face outline\n",
        "symbols(x = 0, y = 0, circles = 1.5, inches = FALSE, add = TRUE)"
      ],
      "metadata": {
        "colab": {
          "base_uri": "https://localhost:8080/",
          "height": 437
        },
        "id": "dllyrGOZRTPy",
        "outputId": "3144145e-9fa0-4cfb-a87c-c78f430d3951"
      },
      "execution_count": 1,
      "outputs": [
        {
          "output_type": "display_data",
          "data": {
            "text/plain": [
              "plot without title"
            ],
            "image/png": "[encoded data removed]"
          },
          "metadata": {
            "image/png": {
              "width": 420,
              "height": 420
            }
          }
        }
      ]
    },
    {
      "cell_type": "code",
      "source": [
        "#1.2 Exercise 2: Swirl\n",
        "#The interactive swirl package teaches you R inside R.\n",
        "install.packages('swirl')\n",
        "library(swirl)\n",
        "swirl()\n",
        "#Complete the first four modules of the R programming course.\n",
        "#If you have extra time, complete the first five courses of the Exploratory Data Analysis course.\n",
        "#Throughout your R journey, you can come back to swirl at any time and complete more courses."
      ],
      "metadata": {
        "id": "w98bKXOTSDkh"
      },
      "execution_count": null,
      "outputs": []
    },
    {
      "cell_type": "code",
      "source": [
        "install.packages('swirl')\n",
        "library(swirl)\n",
        "swirl()"
      ],
      "metadata": {
        "colab": {
          "base_uri": "https://localhost:8080/"
        },
        "id": "s-ggaZ06SP7v",
        "outputId": "7946be26-240f-4a66-e804-d3a9eb96c927"
      },
      "execution_count": 2,
      "outputs": [
        {
          "output_type": "stream",
          "name": "stderr",
          "text": [
            "Installing package into ‘/usr/local/lib/R/site-library’\n",
            "(as ‘lib’ is unspecified)\n",
            "\n",
            "also installing the dependencies ‘bitops’, ‘RCurl’\n",
            "\n",
            "\n",
            "\n",
            "| Hi! Type swirl() when you are ready to begin.\n",
            "\n",
            "\n"
          ]
        }
      ]
    },
    {
      "cell_type": "code",
      "source": [
        "#1.3. Exercise 3: Spot-the-Error #1\n",
        "#Type the following two lines of code into your R script, exactly as they are printed here on the page. Then execute them. This will result in two error messages.\n",
        "x_values <- c(1, 2 3, 4, 5, 6, 7, 8, 9)\n",
        "mean_x <- mean(X_values)\n",
        "#Each line contains one error. Can you find them and correct them?"
      ],
      "metadata": {
        "colab": {
          "base_uri": "https://localhost:8080/",
          "height": 141
        },
        "id": "Ec1lQ6CLSz3G",
        "outputId": "7485d088-04b2-4ce4-9141-bd0d47b825e0"
      },
      "execution_count": 3,
      "outputs": [
        {
          "output_type": "error",
          "ename": "ERROR",
          "evalue": "Error in parse(text = input): <text>:3:20: unexpected numeric constant\n2: #Type the following two lines of code into your R script, exactly as they are printed here on the page. Then execute them. This will result in two error messages.\n3: x_values <- c(1, 2 3\n                      ^\n",
          "traceback": [
            "Error in parse(text = input): <text>:3:20: unexpected numeric constant\n2: #Type the following two lines of code into your R script, exactly as they are printed here on the page. Then execute them. This will result in two error messages.\n3: x_values <- c(1, 2 3\n                      ^\nTraceback:\n"
          ]
        }
      ]
    },
    {
      "cell_type": "code",
      "source": [
        "#1.3. Exercise 3: Spot-the-Error #1\n",
        "#Type the following two lines of code into your R script, exactly as they are printed here on the page. Then execute them. This will result in two error messages.\n",
        "# x_values <- c(1, 2 3, 4, 5, 6, 7, 8, 9) no comma(,) between 2 & 3\n",
        "x_values <- c(1, 2, 3, 4, 5, 6, 7, 8, 9)\n",
        "# mean_x <- mean(X_values) should use x_values in the mean function not X_values.\n",
        "mean_x <- mean(x_values)\n",
        "# Also we are to use print function on assigned varibale (mean_x) or just call mean_x to retrieve mean of x_values\n",
        "#Each line contains one error. Can you find them and correct them?\n",
        "print(mean_x)\n",
        "# OR\n",
        "mean_x"
      ],
      "metadata": {
        "colab": {
          "base_uri": "https://localhost:8080/",
          "height": 52
        },
        "id": "OKaeAjl9UYc3",
        "outputId": "33c54d17-d2c8-4a83-89b8-06e9ffa412b4"
      },
      "execution_count": 9,
      "outputs": [
        {
          "output_type": "stream",
          "name": "stdout",
          "text": [
            "[1] 5\n"
          ]
        },
        {
          "output_type": "display_data",
          "data": {
            "text/html": [
              "5"
            ],
            "text/markdown": "5",
            "text/latex": "5",
            "text/plain": [
              "[1] 5"
            ]
          },
          "metadata": {}
        }
      ]
    },
    {
      "cell_type": "code",
      "source": [
        "#1.4. Exercise 4: Spot-the-Error #2\n",
        "#Why does the following command return an NA value?\n",
        "  x <- c(2, 3, 4, '4')\n",
        "mean(x)\n",
        "#Can you use the function as.numeric() to solve this problem?"
      ],
      "metadata": {
        "id": "ws2HlWGJV7F1"
      },
      "execution_count": null,
      "outputs": []
    },
    {
      "cell_type": "code",
      "source": [
        "# Original vector includes a character '4', which causes coercion to character type\n",
        "x <- c(2, 3, 4, '4')  # All elements become characters\n",
        "\n",
        "# Convert the character vector to numeric using as.numeric()\n",
        "x_numeric <- as.numeric(x)\n",
        "\n",
        "# Calculate the mean of the numeric vector\n",
        "mean_x <- mean(x_numeric)\n",
        "\n",
        "# Display the result\n",
        "mean_x"
      ],
      "metadata": {
        "colab": {
          "base_uri": "https://localhost:8080/",
          "height": 34
        },
        "id": "E9NtMBbLWAzA",
        "outputId": "ec7f9046-622b-460f-ff8a-53e695dcdf92"
      },
      "execution_count": 10,
      "outputs": [
        {
          "output_type": "display_data",
          "data": {
            "text/html": [
              "3.25"
            ],
            "text/markdown": "3.25",
            "text/latex": "3.25",
            "text/plain": [
              "[1] 3.25"
            ]
          },
          "metadata": {}
        }
      ]
    },
    {
      "cell_type": "code",
      "source": [
        "#1.5. Exercise 5: Spot-the-Error: #3\n",
        "#The following line of code tries to extract the row from the nettle data frame that contains information on the country Yemen.\n",
        "# Why does this return an error and can you fix this?\n",
        "nettle[nettle$Country = 'Yemen', ]"
      ],
      "metadata": {
        "id": "ohXE4oOlW8EP"
      },
      "execution_count": null,
      "outputs": []
    },
    {
      "cell_type": "code",
      "source": [
        "nettle <- read.csv('/content/nettle_1999_climate.csv')\n",
        "head(nettle)"
      ],
      "metadata": {
        "colab": {
          "base_uri": "https://localhost:8080/",
          "height": 286
        },
        "id": "Vp5-vKgRYDU6",
        "outputId": "1cea0a8c-d0d1-43fd-9e7f-08a0880d89b1"
      },
      "execution_count": 19,
      "outputs": [
        {
          "output_type": "display_data",
          "data": {
            "text/html": [
              "<table class=\"dataframe\">\n",
              "<caption>A data.frame: 6 × 5</caption>\n",
              "<thead>\n",
              "\t<tr><th></th><th scope=col>Country</th><th scope=col>Population</th><th scope=col>Area</th><th scope=col>MGS</th><th scope=col>Langs</th></tr>\n",
              "\t<tr><th></th><th scope=col>&lt;chr&gt;</th><th scope=col>&lt;dbl&gt;</th><th scope=col>&lt;dbl&gt;</th><th scope=col>&lt;dbl&gt;</th><th scope=col>&lt;int&gt;</th></tr>\n",
              "</thead>\n",
              "<tbody>\n",
              "\t<tr><th scope=row>1</th><td>Algeria   </td><td>4.41</td><td>6.38</td><td>6.60</td><td> 18</td></tr>\n",
              "\t<tr><th scope=row>2</th><td>Angola    </td><td>4.01</td><td>6.10</td><td>6.22</td><td> 42</td></tr>\n",
              "\t<tr><th scope=row>3</th><td>Australia </td><td>4.24</td><td>6.89</td><td>6.00</td><td>234</td></tr>\n",
              "\t<tr><th scope=row>4</th><td>Bangladesh</td><td>5.07</td><td>5.16</td><td>7.40</td><td> 37</td></tr>\n",
              "\t<tr><th scope=row>5</th><td>Benin     </td><td>3.69</td><td>5.05</td><td>7.14</td><td> 52</td></tr>\n",
              "\t<tr><th scope=row>6</th><td>Bolivia   </td><td>3.88</td><td>6.04</td><td>6.92</td><td> 38</td></tr>\n",
              "</tbody>\n",
              "</table>\n"
            ],
            "text/markdown": "\nA data.frame: 6 × 5\n\n| <!--/--> | Country &lt;chr&gt; | Population &lt;dbl&gt; | Area &lt;dbl&gt; | MGS &lt;dbl&gt; | Langs &lt;int&gt; |\n|---|---|---|---|---|---|\n| 1 | Algeria    | 4.41 | 6.38 | 6.60 |  18 |\n| 2 | Angola     | 4.01 | 6.10 | 6.22 |  42 |\n| 3 | Australia  | 4.24 | 6.89 | 6.00 | 234 |\n| 4 | Bangladesh | 5.07 | 5.16 | 7.40 |  37 |\n| 5 | Benin      | 3.69 | 5.05 | 7.14 |  52 |\n| 6 | Bolivia    | 3.88 | 6.04 | 6.92 |  38 |\n\n",
            "text/latex": "A data.frame: 6 × 5\n\\begin{tabular}{r|lllll}\n  & Country & Population & Area & MGS & Langs\\\\\n  & <chr> & <dbl> & <dbl> & <dbl> & <int>\\\\\n\\hline\n\t1 & Algeria    & 4.41 & 6.38 & 6.60 &  18\\\\\n\t2 & Angola     & 4.01 & 6.10 & 6.22 &  42\\\\\n\t3 & Australia  & 4.24 & 6.89 & 6.00 & 234\\\\\n\t4 & Bangladesh & 5.07 & 5.16 & 7.40 &  37\\\\\n\t5 & Benin      & 3.69 & 5.05 & 7.14 &  52\\\\\n\t6 & Bolivia    & 3.88 & 6.04 & 6.92 &  38\\\\\n\\end{tabular}\n",
            "text/plain": [
              "  Country    Population Area MGS  Langs\n",
              "1 Algeria    4.41       6.38 6.60  18  \n",
              "2 Angola     4.01       6.10 6.22  42  \n",
              "3 Australia  4.24       6.89 6.00 234  \n",
              "4 Bangladesh 5.07       5.16 7.40  37  \n",
              "5 Benin      3.69       5.05 7.14  52  \n",
              "6 Bolivia    3.88       6.04 6.92  38  "
            ]
          },
          "metadata": {}
        }
      ]
    },
    {
      "cell_type": "code",
      "source": [
        "# Filter the nettle data frame to return rows where Country equals 'Yemen'\n",
        "nettle[nettle$Country == 'Yemen', ]\n",
        "# Why does this return an error and can you fix this?\n",
        "# '=' which is meant for assigning values was used instead of '==' that is a comparison syntax\n",
        "# '==' checks each row in the Country column to see if it matches 'Yemen'\n",
        "# The result is a logical vector (TRUE/FALSE) used to subset the data frame and get corresponding values to column country with values 'Yemen\""
      ],
      "metadata": {
        "colab": {
          "base_uri": "https://localhost:8080/",
          "height": 1000
        },
        "id": "3lSYohpGWj8d",
        "outputId": "07f12a42-1da5-415d-8940-6b126f48118f"
      },
      "execution_count": 24,
      "outputs": [
        {
          "output_type": "display_data",
          "data": {
            "text/html": [
              "<table class=\"dataframe\">\n",
              "<caption>A data.frame: 74 × 5</caption>\n",
              "<thead>\n",
              "\t<tr><th></th><th scope=col>Country</th><th scope=col>Population</th><th scope=col>Area</th><th scope=col>MGS</th><th scope=col>Langs</th></tr>\n",
              "\t<tr><th></th><th scope=col>&lt;chr&gt;</th><th scope=col>&lt;dbl&gt;</th><th scope=col>&lt;dbl&gt;</th><th scope=col>&lt;dbl&gt;</th><th scope=col>&lt;int&gt;</th></tr>\n",
              "</thead>\n",
              "<tbody>\n",
              "\t<tr><th scope=row>1</th><td>Yemen</td><td>4.41</td><td>6.38</td><td> 6.60</td><td> 18</td></tr>\n",
              "\t<tr><th scope=row>2</th><td>Yemen</td><td>4.01</td><td>6.10</td><td> 6.22</td><td> 42</td></tr>\n",
              "\t<tr><th scope=row>3</th><td>Yemen</td><td>4.24</td><td>6.89</td><td> 6.00</td><td>234</td></tr>\n",
              "\t<tr><th scope=row>4</th><td>Yemen</td><td>5.07</td><td>5.16</td><td> 7.40</td><td> 37</td></tr>\n",
              "\t<tr><th scope=row>5</th><td>Yemen</td><td>3.69</td><td>5.05</td><td> 7.14</td><td> 52</td></tr>\n",
              "\t<tr><th scope=row>6</th><td>Yemen</td><td>3.88</td><td>6.04</td><td> 6.92</td><td> 38</td></tr>\n",
              "\t<tr><th scope=row>7</th><td>Yemen</td><td>3.13</td><td>5.76</td><td> 4.60</td><td> 27</td></tr>\n",
              "\t<tr><th scope=row>8</th><td>Yemen</td><td>5.19</td><td>6.93</td><td> 9.71</td><td>209</td></tr>\n",
              "\t<tr><th scope=row>9</th><td>Yemen</td><td>3.97</td><td>5.44</td><td> 5.17</td><td> 75</td></tr>\n",
              "\t<tr><th scope=row>10</th><td>Yemen</td><td>3.50</td><td>5.79</td><td> 8.08</td><td> 94</td></tr>\n",
              "\t<tr><th scope=row>11</th><td>Yemen</td><td>3.93</td><td>5.26</td><td> 8.44</td><td> 18</td></tr>\n",
              "\t<tr><th scope=row>12</th><td>Yemen</td><td>4.09</td><td>5.68</td><td> 9.17</td><td>275</td></tr>\n",
              "\t<tr><th scope=row>13</th><td>Yemen</td><td>3.76</td><td>6.11</td><td> 4.00</td><td>126</td></tr>\n",
              "\t<tr><th scope=row>14</th><td>Yemen</td><td>4.53</td><td>6.06</td><td>11.37</td><td> 79</td></tr>\n",
              "\t<tr><th scope=row>15</th><td>Yemen</td><td>3.37</td><td>5.53</td><td> 9.60</td><td> 60</td></tr>\n",
              "\t<tr><th scope=row>16</th><td>Yemen</td><td>3.49</td><td>4.71</td><td> 8.92</td><td> 10</td></tr>\n",
              "\t<tr><th scope=row>17</th><td>Yemen</td><td>4.10</td><td>5.51</td><td> 8.67</td><td> 75</td></tr>\n",
              "\t<tr><th scope=row>18</th><td>Yemen</td><td>4.03</td><td>5.04</td><td> 7.46</td><td>  1</td></tr>\n",
              "\t<tr><th scope=row>19</th><td>Yemen</td><td>4.04</td><td>5.45</td><td> 8.14</td><td> 22</td></tr>\n",
              "\t<tr><th scope=row>20</th><td>Yemen</td><td>4.74</td><td>6.00</td><td> 0.89</td><td> 11</td></tr>\n",
              "\t<tr><th scope=row>21</th><td>Yemen</td><td>4.73</td><td>6.09</td><td> 7.28</td><td>112</td></tr>\n",
              "\t<tr><th scope=row>22</th><td>Yemen</td><td>2.01</td><td>4.95</td><td>10.40</td><td> 11</td></tr>\n",
              "\t<tr><th scope=row>23</th><td>Yemen</td><td>3.08</td><td>5.43</td><td> 8.79</td><td> 40</td></tr>\n",
              "\t<tr><th scope=row>24</th><td>Yemen</td><td>4.19</td><td>5.38</td><td> 8.79</td><td> 73</td></tr>\n",
              "\t<tr><th scope=row>25</th><td>Yemen</td><td>3.98</td><td>5.04</td><td> 9.31</td><td> 52</td></tr>\n",
              "\t<tr><th scope=row>26</th><td>Yemen</td><td>3.77</td><td>5.39</td><td> 7.38</td><td> 29</td></tr>\n",
              "\t<tr><th scope=row>27</th><td>Yemen</td><td>2.90</td><td>5.33</td><td>12.00</td><td> 14</td></tr>\n",
              "\t<tr><th scope=row>28</th><td>Yemen</td><td>3.72</td><td>5.05</td><td> 8.54</td><td>  9</td></tr>\n",
              "\t<tr><th scope=row>29</th><td>Yemen</td><td>5.93</td><td>6.52</td><td> 5.32</td><td>405</td></tr>\n",
              "\t<tr><th scope=row>30</th><td>Yemen</td><td>5.27</td><td>6.28</td><td>10.67</td><td>701</td></tr>\n",
              "\t<tr><th scope=row>⋮</th><td>⋮</td><td>⋮</td><td>⋮</td><td>⋮</td><td>⋮</td></tr>\n",
              "\t<tr><th scope=row>45</th><td>Yemen</td><td>3.60</td><td>5.11</td><td> 8.13</td><td>  7</td></tr>\n",
              "\t<tr><th scope=row>46</th><td>Yemen</td><td>3.90</td><td>6.10</td><td> 2.40</td><td> 21</td></tr>\n",
              "\t<tr><th scope=row>47</th><td>Yemen</td><td>5.05</td><td>5.97</td><td> 7.00</td><td>427</td></tr>\n",
              "\t<tr><th scope=row>48</th><td>Yemen</td><td>3.19</td><td>5.33</td><td> 0.00</td><td>  8</td></tr>\n",
              "\t<tr><th scope=row>49</th><td>Yemen</td><td>3.39</td><td>4.88</td><td> 9.20</td><td> 13</td></tr>\n",
              "\t<tr><th scope=row>50</th><td>Yemen</td><td>3.58</td><td>5.67</td><td>10.88</td><td>862</td></tr>\n",
              "\t<tr><th scope=row>51</th><td>Yemen</td><td>3.64</td><td>5.61</td><td>10.25</td><td> 21</td></tr>\n",
              "\t<tr><th scope=row>52</th><td>Yemen</td><td>4.34</td><td>6.11</td><td> 2.65</td><td> 91</td></tr>\n",
              "\t<tr><th scope=row>53</th><td>Yemen</td><td>4.80</td><td>5.48</td><td>10.34</td><td>168</td></tr>\n",
              "\t<tr><th scope=row>54</th><td>Yemen</td><td>4.17</td><td>6.33</td><td> 0.40</td><td>  8</td></tr>\n",
              "\t<tr><th scope=row>55</th><td>Yemen</td><td>3.88</td><td>5.29</td><td> 3.58</td><td> 42</td></tr>\n",
              "\t<tr><th scope=row>56</th><td>Yemen</td><td>3.63</td><td>4.86</td><td> 8.22</td><td> 23</td></tr>\n",
              "\t<tr><th scope=row>57</th><td>Yemen</td><td>3.52</td><td>4.46</td><td>12.00</td><td> 66</td></tr>\n",
              "\t<tr><th scope=row>58</th><td>Yemen</td><td>3.89</td><td>5.80</td><td> 3.00</td><td> 14</td></tr>\n",
              "\t<tr><th scope=row>59</th><td>Yemen</td><td>4.56</td><td>6.09</td><td> 6.05</td><td> 32</td></tr>\n",
              "\t<tr><th scope=row>60</th><td>Yemen</td><td>4.24</td><td>4.82</td><td> 9.59</td><td>  7</td></tr>\n",
              "\t<tr><th scope=row>61</th><td>Yemen</td><td>4.41</td><td>6.40</td><td> 4.02</td><td>134</td></tr>\n",
              "\t<tr><th scope=row>62</th><td>Yemen</td><td>2.63</td><td>5.21</td><td>12.00</td><td> 17</td></tr>\n",
              "\t<tr><th scope=row>63</th><td>Yemen</td><td>4.45</td><td>5.98</td><td> 7.02</td><td>131</td></tr>\n",
              "\t<tr><th scope=row>64</th><td>Yemen</td><td>4.75</td><td>5.71</td><td> 8.04</td><td> 82</td></tr>\n",
              "\t<tr><th scope=row>65</th><td>Yemen</td><td>3.56</td><td>4.75</td><td> 7.91</td><td> 43</td></tr>\n",
              "\t<tr><th scope=row>66</th><td>Yemen</td><td>3.21</td><td>4.92</td><td> 0.83</td><td>  9</td></tr>\n",
              "\t<tr><th scope=row>67</th><td>Yemen</td><td>4.29</td><td>5.37</td><td>10.14</td><td> 43</td></tr>\n",
              "\t<tr><th scope=row>68</th><td>Yemen</td><td>2.21</td><td>4.09</td><td>12.00</td><td>111</td></tr>\n",
              "\t<tr><th scope=row>69</th><td>Yemen</td><td>4.31</td><td>5.96</td><td> 7.98</td><td> 40</td></tr>\n",
              "\t<tr><th scope=row>70</th><td>Yemen</td><td>4.83</td><td>5.52</td><td> 8.80</td><td> 88</td></tr>\n",
              "\t<tr><th scope=row>71</th><td>Yemen</td><td>4.09</td><td>5.72</td><td> 0.00</td><td>  6</td></tr>\n",
              "\t<tr><th scope=row>72</th><td>Yemen</td><td>4.56</td><td>6.37</td><td> 9.44</td><td>219</td></tr>\n",
              "\t<tr><th scope=row>73</th><td>Yemen</td><td>3.94</td><td>5.88</td><td> 5.43</td><td> 38</td></tr>\n",
              "\t<tr><th scope=row>74</th><td>Yemen</td><td>4.00</td><td>5.59</td><td> 5.29</td><td> 18</td></tr>\n",
              "</tbody>\n",
              "</table>\n"
            ],
            "text/markdown": "\nA data.frame: 74 × 5\n\n| <!--/--> | Country &lt;chr&gt; | Population &lt;dbl&gt; | Area &lt;dbl&gt; | MGS &lt;dbl&gt; | Langs &lt;int&gt; |\n|---|---|---|---|---|---|\n| 1 | Yemen | 4.41 | 6.38 |  6.60 |  18 |\n| 2 | Yemen | 4.01 | 6.10 |  6.22 |  42 |\n| 3 | Yemen | 4.24 | 6.89 |  6.00 | 234 |\n| 4 | Yemen | 5.07 | 5.16 |  7.40 |  37 |\n| 5 | Yemen | 3.69 | 5.05 |  7.14 |  52 |\n| 6 | Yemen | 3.88 | 6.04 |  6.92 |  38 |\n| 7 | Yemen | 3.13 | 5.76 |  4.60 |  27 |\n| 8 | Yemen | 5.19 | 6.93 |  9.71 | 209 |\n| 9 | Yemen | 3.97 | 5.44 |  5.17 |  75 |\n| 10 | Yemen | 3.50 | 5.79 |  8.08 |  94 |\n| 11 | Yemen | 3.93 | 5.26 |  8.44 |  18 |\n| 12 | Yemen | 4.09 | 5.68 |  9.17 | 275 |\n| 13 | Yemen | 3.76 | 6.11 |  4.00 | 126 |\n| 14 | Yemen | 4.53 | 6.06 | 11.37 |  79 |\n| 15 | Yemen | 3.37 | 5.53 |  9.60 |  60 |\n| 16 | Yemen | 3.49 | 4.71 |  8.92 |  10 |\n| 17 | Yemen | 4.10 | 5.51 |  8.67 |  75 |\n| 18 | Yemen | 4.03 | 5.04 |  7.46 |   1 |\n| 19 | Yemen | 4.04 | 5.45 |  8.14 |  22 |\n| 20 | Yemen | 4.74 | 6.00 |  0.89 |  11 |\n| 21 | Yemen | 4.73 | 6.09 |  7.28 | 112 |\n| 22 | Yemen | 2.01 | 4.95 | 10.40 |  11 |\n| 23 | Yemen | 3.08 | 5.43 |  8.79 |  40 |\n| 24 | Yemen | 4.19 | 5.38 |  8.79 |  73 |\n| 25 | Yemen | 3.98 | 5.04 |  9.31 |  52 |\n| 26 | Yemen | 3.77 | 5.39 |  7.38 |  29 |\n| 27 | Yemen | 2.90 | 5.33 | 12.00 |  14 |\n| 28 | Yemen | 3.72 | 5.05 |  8.54 |   9 |\n| 29 | Yemen | 5.93 | 6.52 |  5.32 | 405 |\n| 30 | Yemen | 5.27 | 6.28 | 10.67 | 701 |\n| ⋮ | ⋮ | ⋮ | ⋮ | ⋮ | ⋮ |\n| 45 | Yemen | 3.60 | 5.11 |  8.13 |   7 |\n| 46 | Yemen | 3.90 | 6.10 |  2.40 |  21 |\n| 47 | Yemen | 5.05 | 5.97 |  7.00 | 427 |\n| 48 | Yemen | 3.19 | 5.33 |  0.00 |   8 |\n| 49 | Yemen | 3.39 | 4.88 |  9.20 |  13 |\n| 50 | Yemen | 3.58 | 5.67 | 10.88 | 862 |\n| 51 | Yemen | 3.64 | 5.61 | 10.25 |  21 |\n| 52 | Yemen | 4.34 | 6.11 |  2.65 |  91 |\n| 53 | Yemen | 4.80 | 5.48 | 10.34 | 168 |\n| 54 | Yemen | 4.17 | 6.33 |  0.40 |   8 |\n| 55 | Yemen | 3.88 | 5.29 |  3.58 |  42 |\n| 56 | Yemen | 3.63 | 4.86 |  8.22 |  23 |\n| 57 | Yemen | 3.52 | 4.46 | 12.00 |  66 |\n| 58 | Yemen | 3.89 | 5.80 |  3.00 |  14 |\n| 59 | Yemen | 4.56 | 6.09 |  6.05 |  32 |\n| 60 | Yemen | 4.24 | 4.82 |  9.59 |   7 |\n| 61 | Yemen | 4.41 | 6.40 |  4.02 | 134 |\n| 62 | Yemen | 2.63 | 5.21 | 12.00 |  17 |\n| 63 | Yemen | 4.45 | 5.98 |  7.02 | 131 |\n| 64 | Yemen | 4.75 | 5.71 |  8.04 |  82 |\n| 65 | Yemen | 3.56 | 4.75 |  7.91 |  43 |\n| 66 | Yemen | 3.21 | 4.92 |  0.83 |   9 |\n| 67 | Yemen | 4.29 | 5.37 | 10.14 |  43 |\n| 68 | Yemen | 2.21 | 4.09 | 12.00 | 111 |\n| 69 | Yemen | 4.31 | 5.96 |  7.98 |  40 |\n| 70 | Yemen | 4.83 | 5.52 |  8.80 |  88 |\n| 71 | Yemen | 4.09 | 5.72 |  0.00 |   6 |\n| 72 | Yemen | 4.56 | 6.37 |  9.44 | 219 |\n| 73 | Yemen | 3.94 | 5.88 |  5.43 |  38 |\n| 74 | Yemen | 4.00 | 5.59 |  5.29 |  18 |\n\n",
            "text/latex": "A data.frame: 74 × 5\n\\begin{tabular}{r|lllll}\n  & Country & Population & Area & MGS & Langs\\\\\n  & <chr> & <dbl> & <dbl> & <dbl> & <int>\\\\\n\\hline\n\t1 & Yemen & 4.41 & 6.38 &  6.60 &  18\\\\\n\t2 & Yemen & 4.01 & 6.10 &  6.22 &  42\\\\\n\t3 & Yemen & 4.24 & 6.89 &  6.00 & 234\\\\\n\t4 & Yemen & 5.07 & 5.16 &  7.40 &  37\\\\\n\t5 & Yemen & 3.69 & 5.05 &  7.14 &  52\\\\\n\t6 & Yemen & 3.88 & 6.04 &  6.92 &  38\\\\\n\t7 & Yemen & 3.13 & 5.76 &  4.60 &  27\\\\\n\t8 & Yemen & 5.19 & 6.93 &  9.71 & 209\\\\\n\t9 & Yemen & 3.97 & 5.44 &  5.17 &  75\\\\\n\t10 & Yemen & 3.50 & 5.79 &  8.08 &  94\\\\\n\t11 & Yemen & 3.93 & 5.26 &  8.44 &  18\\\\\n\t12 & Yemen & 4.09 & 5.68 &  9.17 & 275\\\\\n\t13 & Yemen & 3.76 & 6.11 &  4.00 & 126\\\\\n\t14 & Yemen & 4.53 & 6.06 & 11.37 &  79\\\\\n\t15 & Yemen & 3.37 & 5.53 &  9.60 &  60\\\\\n\t16 & Yemen & 3.49 & 4.71 &  8.92 &  10\\\\\n\t17 & Yemen & 4.10 & 5.51 &  8.67 &  75\\\\\n\t18 & Yemen & 4.03 & 5.04 &  7.46 &   1\\\\\n\t19 & Yemen & 4.04 & 5.45 &  8.14 &  22\\\\\n\t20 & Yemen & 4.74 & 6.00 &  0.89 &  11\\\\\n\t21 & Yemen & 4.73 & 6.09 &  7.28 & 112\\\\\n\t22 & Yemen & 2.01 & 4.95 & 10.40 &  11\\\\\n\t23 & Yemen & 3.08 & 5.43 &  8.79 &  40\\\\\n\t24 & Yemen & 4.19 & 5.38 &  8.79 &  73\\\\\n\t25 & Yemen & 3.98 & 5.04 &  9.31 &  52\\\\\n\t26 & Yemen & 3.77 & 5.39 &  7.38 &  29\\\\\n\t27 & Yemen & 2.90 & 5.33 & 12.00 &  14\\\\\n\t28 & Yemen & 3.72 & 5.05 &  8.54 &   9\\\\\n\t29 & Yemen & 5.93 & 6.52 &  5.32 & 405\\\\\n\t30 & Yemen & 5.27 & 6.28 & 10.67 & 701\\\\\n\t⋮ & ⋮ & ⋮ & ⋮ & ⋮ & ⋮\\\\\n\t45 & Yemen & 3.60 & 5.11 &  8.13 &   7\\\\\n\t46 & Yemen & 3.90 & 6.10 &  2.40 &  21\\\\\n\t47 & Yemen & 5.05 & 5.97 &  7.00 & 427\\\\\n\t48 & Yemen & 3.19 & 5.33 &  0.00 &   8\\\\\n\t49 & Yemen & 3.39 & 4.88 &  9.20 &  13\\\\\n\t50 & Yemen & 3.58 & 5.67 & 10.88 & 862\\\\\n\t51 & Yemen & 3.64 & 5.61 & 10.25 &  21\\\\\n\t52 & Yemen & 4.34 & 6.11 &  2.65 &  91\\\\\n\t53 & Yemen & 4.80 & 5.48 & 10.34 & 168\\\\\n\t54 & Yemen & 4.17 & 6.33 &  0.40 &   8\\\\\n\t55 & Yemen & 3.88 & 5.29 &  3.58 &  42\\\\\n\t56 & Yemen & 3.63 & 4.86 &  8.22 &  23\\\\\n\t57 & Yemen & 3.52 & 4.46 & 12.00 &  66\\\\\n\t58 & Yemen & 3.89 & 5.80 &  3.00 &  14\\\\\n\t59 & Yemen & 4.56 & 6.09 &  6.05 &  32\\\\\n\t60 & Yemen & 4.24 & 4.82 &  9.59 &   7\\\\\n\t61 & Yemen & 4.41 & 6.40 &  4.02 & 134\\\\\n\t62 & Yemen & 2.63 & 5.21 & 12.00 &  17\\\\\n\t63 & Yemen & 4.45 & 5.98 &  7.02 & 131\\\\\n\t64 & Yemen & 4.75 & 5.71 &  8.04 &  82\\\\\n\t65 & Yemen & 3.56 & 4.75 &  7.91 &  43\\\\\n\t66 & Yemen & 3.21 & 4.92 &  0.83 &   9\\\\\n\t67 & Yemen & 4.29 & 5.37 & 10.14 &  43\\\\\n\t68 & Yemen & 2.21 & 4.09 & 12.00 & 111\\\\\n\t69 & Yemen & 4.31 & 5.96 &  7.98 &  40\\\\\n\t70 & Yemen & 4.83 & 5.52 &  8.80 &  88\\\\\n\t71 & Yemen & 4.09 & 5.72 &  0.00 &   6\\\\\n\t72 & Yemen & 4.56 & 6.37 &  9.44 & 219\\\\\n\t73 & Yemen & 3.94 & 5.88 &  5.43 &  38\\\\\n\t74 & Yemen & 4.00 & 5.59 &  5.29 &  18\\\\\n\\end{tabular}\n",
            "text/plain": [
              "   Country Population Area MGS   Langs\n",
              "1  Yemen   4.41       6.38  6.60  18  \n",
              "2  Yemen   4.01       6.10  6.22  42  \n",
              "3  Yemen   4.24       6.89  6.00 234  \n",
              "4  Yemen   5.07       5.16  7.40  37  \n",
              "5  Yemen   3.69       5.05  7.14  52  \n",
              "6  Yemen   3.88       6.04  6.92  38  \n",
              "7  Yemen   3.13       5.76  4.60  27  \n",
              "8  Yemen   5.19       6.93  9.71 209  \n",
              "9  Yemen   3.97       5.44  5.17  75  \n",
              "10 Yemen   3.50       5.79  8.08  94  \n",
              "11 Yemen   3.93       5.26  8.44  18  \n",
              "12 Yemen   4.09       5.68  9.17 275  \n",
              "13 Yemen   3.76       6.11  4.00 126  \n",
              "14 Yemen   4.53       6.06 11.37  79  \n",
              "15 Yemen   3.37       5.53  9.60  60  \n",
              "16 Yemen   3.49       4.71  8.92  10  \n",
              "17 Yemen   4.10       5.51  8.67  75  \n",
              "18 Yemen   4.03       5.04  7.46   1  \n",
              "19 Yemen   4.04       5.45  8.14  22  \n",
              "20 Yemen   4.74       6.00  0.89  11  \n",
              "21 Yemen   4.73       6.09  7.28 112  \n",
              "22 Yemen   2.01       4.95 10.40  11  \n",
              "23 Yemen   3.08       5.43  8.79  40  \n",
              "24 Yemen   4.19       5.38  8.79  73  \n",
              "25 Yemen   3.98       5.04  9.31  52  \n",
              "26 Yemen   3.77       5.39  7.38  29  \n",
              "27 Yemen   2.90       5.33 12.00  14  \n",
              "28 Yemen   3.72       5.05  8.54   9  \n",
              "29 Yemen   5.93       6.52  5.32 405  \n",
              "30 Yemen   5.27       6.28 10.67 701  \n",
              "⋮  ⋮       ⋮          ⋮    ⋮     ⋮    \n",
              "45 Yemen   3.60       5.11  8.13   7  \n",
              "46 Yemen   3.90       6.10  2.40  21  \n",
              "47 Yemen   5.05       5.97  7.00 427  \n",
              "48 Yemen   3.19       5.33  0.00   8  \n",
              "49 Yemen   3.39       4.88  9.20  13  \n",
              "50 Yemen   3.58       5.67 10.88 862  \n",
              "51 Yemen   3.64       5.61 10.25  21  \n",
              "52 Yemen   4.34       6.11  2.65  91  \n",
              "53 Yemen   4.80       5.48 10.34 168  \n",
              "54 Yemen   4.17       6.33  0.40   8  \n",
              "55 Yemen   3.88       5.29  3.58  42  \n",
              "56 Yemen   3.63       4.86  8.22  23  \n",
              "57 Yemen   3.52       4.46 12.00  66  \n",
              "58 Yemen   3.89       5.80  3.00  14  \n",
              "59 Yemen   4.56       6.09  6.05  32  \n",
              "60 Yemen   4.24       4.82  9.59   7  \n",
              "61 Yemen   4.41       6.40  4.02 134  \n",
              "62 Yemen   2.63       5.21 12.00  17  \n",
              "63 Yemen   4.45       5.98  7.02 131  \n",
              "64 Yemen   4.75       5.71  8.04  82  \n",
              "65 Yemen   3.56       4.75  7.91  43  \n",
              "66 Yemen   3.21       4.92  0.83   9  \n",
              "67 Yemen   4.29       5.37 10.14  43  \n",
              "68 Yemen   2.21       4.09 12.00 111  \n",
              "69 Yemen   4.31       5.96  7.98  40  \n",
              "70 Yemen   4.83       5.52  8.80  88  \n",
              "71 Yemen   4.09       5.72  0.00   6  \n",
              "72 Yemen   4.56       6.37  9.44 219  \n",
              "73 Yemen   3.94       5.88  5.43  38  \n",
              "74 Yemen   4.00       5.59  5.29  18  "
            ]
          },
          "metadata": {}
        }
      ]
    }
  ]
}